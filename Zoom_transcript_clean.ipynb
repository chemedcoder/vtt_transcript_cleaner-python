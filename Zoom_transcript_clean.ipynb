{
 "cells": [
  {
   "cell_type": "code",
   "execution_count": null,
   "id": "93833b7a",
   "metadata": {},
   "outputs": [],
   "source": [
    "#Transcipt cleaning\n",
    "from pathlib import Path\n",
    "import re\n",
    "def clean_transcript(file_path, output_path):\n",
    "    try: \n",
    "        lines = file_path.read_text(encoding='utf-8').splitlines() \n",
    "    except Exception as e:\n",
    "        print(f\"Error: Failed to read {file_path}: {e}\") \n",
    "        return\n",
    "    timestamp_pattern = re.compile(r'^(\\d{2}:\\d{2}:\\d{2}\\.\\d{3}) --> (\\d{2}:\\d{2}:\\d{2}\\.\\d{3}$)')\n",
    "    numbering_pattern = re.compile(r'^\\d+$')\n",
    "    speaker_pattern = re.compile(r\"^([\\w\\s\\'-]+):\\s+(.+)\")\n",
    "    cleaned_lines = []\n",
    "    prev_speaker = None\n",
    "    prev_text = \"\"\n",
    "    current_timestamp = None\n",
    "    speaker_timestamp = None\n",
    "    for line in lines:\n",
    "        line = line.strip()\n",
    "        if numbering_pattern.match(line):\n",
    "            continue\n",
    "        timestamp_match = timestamp_pattern.match(line)\n",
    "        if timestamp_match:\n",
    "            current_timestamp = timestamp_match.group(1)\n",
    "            continue\n",
    "        speaker_match = speaker_pattern.match(line)\n",
    "        if speaker_match:\n",
    "            speaker, text = speaker_match.groups()\n",
    "            if prev_speaker and speaker == prev_speaker:\n",
    "                prev_text += \" \" + text\n",
    "            else:\n",
    "                if prev_speaker is not None:\n",
    "                    cleaned_lines.append(f\"{speaker_timestamp} \\n{prev_speaker}: {prev_text}\\n\\n\")\n",
    "                prev_speaker = speaker\n",
    "                prev_text = f\"{text}\"\n",
    "                speaker_timestamp = current_timestamp\n",
    "        else:\n",
    "            prev_text += \" \" + line\n",
    "    if prev_speaker:\n",
    "        cleaned_lines.append(f\"{speaker_timestamp} \\n{prev_speaker}: {prev_text}\\n\\n\")\n",
    "    try:\n",
    "        output_path.write_text(\"\".join(cleaned_lines), encoding='utf-8')\n",
    "        print(f\"{output_path} has been created\")\n",
    "    except Exception as e:\n",
    "        print(f\"Error: Failed to write to {output_path}: {e}\")"
   ]
  },
  {
   "cell_type": "code",
   "execution_count": null,
   "id": "644d16a0-8c50-4c26-a368-1220004d7328",
   "metadata": {},
   "outputs": [],
   "source": [
    "# Function to loop through a list of transcript paths\n",
    "def transcript_loop(list_path_str):\n",
    "    list_path = Path(list_path_str.strip().strip('\"'))\n",
    "    try:\n",
    "        input_files = list_path.read_text(encoding='utf-8').splitlines()\n",
    "    except FileNotFoundError:\n",
    "        print(f\"Error: List file not found at {list_path}\")\n",
    "        return\n",
    "    for input_file_str in input_files:\n",
    "        input_path = Path(input_file_str.strip().strip('\"'))\n",
    "        if not input_path.exists():\n",
    "            print(f\"Error: Input file does not exist: {input_path}\")\n",
    "            continue\n",
    "        if input_path.suffix.lower() == '.vtt':\n",
    "            output_path = input_path.with_name(input_path.stem + \"_cleaned.txt\")\n",
    "        elif input_path.suffix.lower() == '.txt':\n",
    "            output_path = input_path.with_name(input_path.stem + \"_cleaned.txt\")\n",
    "        else:\n",
    "            print(f\"Error: Unsupported file type: {input_path.name}\")\n",
    "            continue\n",
    "        clean_transcript(input_path, output_path)"
   ]
  },
  {
   "cell_type": "code",
   "execution_count": null,
   "id": "d045da41",
   "metadata": {},
   "outputs": [],
   "source": [
    "# Invocation\n",
    "if __name__ == \"__main__\":\n",
    "    user_input = input(\"Enter the file path: \").strip()\n",
    "    transcript_list_file = user_input.encode(\"unicode_escape\").decode()\n",
    "    transcript_loop(transcript_list_file)"
   ]
  },
  {
   "cell_type": "code",
   "execution_count": null,
   "id": "adc57a4a-ef50-42ba-a4a4-55f56e6943a3",
   "metadata": {},
   "outputs": [],
   "source": []
  }
 ],
 "metadata": {
  "kernelspec": {
   "display_name": "Python [conda env:base] *",
   "language": "python",
   "name": "conda-base-py"
  },
  "language": "python",
  "language_info": {
   "codemirror_mode": {
    "name": "ipython",
    "version": 3
   },
   "file_extension": ".py",
   "mimetype": "text/x-python",
   "name": "python",
   "nbconvert_exporter": "python",
   "pygments_lexer": "ipython3",
   "version": "3.12.7"
  }
 },
 "nbformat": 4,
 "nbformat_minor": 5
}
